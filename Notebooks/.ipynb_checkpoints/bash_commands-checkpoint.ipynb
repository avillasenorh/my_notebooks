{
 "cells": [
  {
   "cell_type": "markdown",
   "metadata": {},
   "source": [
    "Running bash commands in Jupyter Notebooks"
   ]
  },
  {
   "cell_type": "code",
   "execution_count": 2,
   "metadata": {},
   "outputs": [
    {
     "name": "stdout",
     "output_type": "stream",
     "text": [
      "/Users/antonio\n",
      "total 16\n",
      "drwx------@  3 antonio  staff    96 Apr  2 12:21 Applications\n",
      "drwxrwxr-x@  4 antonio  staff   128 Apr 15 07:58 Creative Cloud Files\n",
      "drwx------@ 16 antonio  staff   512 Apr 15 12:07 Desktop\n",
      "drwxr-xr-x@ 28 antonio  staff   896 Feb 20 08:25 Documents\n",
      "drwx------@ 20 antonio  staff   640 Apr 15 12:25 Downloads\n",
      "drwxr-xr-x@ 46 antonio  staff  1472 Apr 15 10:59 Dropbox\n",
      "drwxr-xr-x   3 antonio  staff    96 Mar  7 10:50 Ivan\n",
      "drwxr-xr-x   3 antonio  staff    96 Apr  9 12:45 LaTeX\n",
      "drwx------@ 74 antonio  staff  2368 Apr  7 17:56 Library\n",
      "drwx------+  4 antonio  staff   128 Jan 26 19:05 Movies\n",
      "drwx------+  4 antonio  staff   128 Feb  8 08:59 Music\n",
      "drwx------@  8 antonio  staff   256 Apr 15 07:59 OneDrive\n",
      "drwxr-xr-x  28 antonio  staff   896 Feb  2 12:08 Personal\n",
      "drwx------+  6 antonio  staff   192 Mar 26 09:45 Pictures\n",
      "drwxr-xr-x+  4 antonio  staff   128 Jan 26 15:27 Public\n",
      "drwxr-xr-x   3 antonio  staff    96 Apr  7 11:43 QGIS\n",
      "drwxr-xr-x   3 antonio  staff    96 Feb  4 20:12 VMs\n",
      "drwx------   3 antonio  staff    96 Feb  4 20:21 VirtualBox VMs\n",
      "drwxr-xr-x  10 antonio  staff   320 Apr  7 11:31 Zotero\n",
      "drwxr-xr-x   8 antonio  staff   256 Apr  7 20:31 bin\n",
      "drwxr-xr-x   5 antonio  staff   160 Apr  7 20:29 data\n",
      "drwxr-xr-x   7 antonio  staff   224 Apr 15 14:38 devel\n",
      "-rw-r--r--   1 antonio  staff  5111 Apr  7 15:12 gmt.conf\n",
      "drwxr-xr-x   3 antonio  staff    96 Apr  7 17:59 grassdata\n",
      "drwxr-xr-x   3 antonio  staff    96 Jan 29 10:33 opt\n",
      "drwxr-xr-x   3 antonio  staff    96 Apr  9 21:55 scripts\n"
     ]
    }
   ],
   "source": [
    "%%bash\n",
    "cd\n",
    "pwd\n",
    "ls -l"
   ]
  },
  {
   "cell_type": "code",
   "execution_count": null,
   "metadata": {},
   "outputs": [],
   "source": []
  }
 ],
 "metadata": {
  "kernelspec": {
   "display_name": "Python 3",
   "language": "python",
   "name": "python3"
  },
  "language_info": {
   "codemirror_mode": {
    "name": "ipython",
    "version": 3
   },
   "file_extension": ".py",
   "mimetype": "text/x-python",
   "name": "python",
   "nbconvert_exporter": "python",
   "pygments_lexer": "ipython3",
   "version": "3.7.4"
  }
 },
 "nbformat": 4,
 "nbformat_minor": 2
}
